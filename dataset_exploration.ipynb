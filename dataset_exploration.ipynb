{
 "cells": [
  {
   "cell_type": "code",
   "execution_count": 2,
   "metadata": {},
   "outputs": [
    {
     "name": "stderr",
     "output_type": "stream",
     "text": [
      "/tmp/ipykernel_16652/3461890713.py:5: DtypeWarning: Columns (3,4,12) have mixed types. Specify dtype option on import or set low_memory=False.\n",
      "  df = pd.read_csv(file_path, usecols=cols)\n"
     ]
    }
   ],
   "source": [
    "import pandas as pd\n",
    "file_path = './data/dataset/disk_data.csv'\n",
    "cols = ['date', 'serial_number', 'model', 'failure', 'vault_id', 's9_power_on_hours']\n",
    "\n",
    "df = pd.read_csv(file_path, usecols=cols)\n",
    "df = df.dropna(axis=0) #Drop row with NaNs\n",
    "\n",
    "df = df[~( df['vault_id'] == 'vault_id')] #Drop rows with 'vault_id' as value"
   ]
  },
  {
   "cell_type": "code",
   "execution_count": 3,
   "metadata": {},
   "outputs": [
    {
     "name": "stdout",
     "output_type": "stream",
     "text": [
      "date                 0\n",
      "serial_number        0\n",
      "model                0\n",
      "failure              0\n",
      "vault_id             0\n",
      "s9_power_on_hours    0\n",
      "dtype: int64\n",
      "Column: date, Dtype: object\n",
      "Column: serial_number, Dtype: object\n",
      "Column: model, Dtype: object\n",
      "Column: failure, Dtype: object\n",
      "Column: vault_id, Dtype: object\n",
      "Column: s9_power_on_hours, Dtype: object\n"
     ]
    }
   ],
   "source": [
    "#Print column names and theit NaN count\n",
    "def print_nan_count_per_column(df):\n",
    "    nan_count_per_column = df.isna().sum()\n",
    "    print(nan_count_per_column)\n",
    "\n",
    "# Print column names and their data types\n",
    "def print_col_types(df):\n",
    "    for column, dtype in df.dtypes.items():\n",
    "        print(f\"Column: {column}, Dtype: {dtype}\")\n",
    "        \n",
    "print_nan_count_per_column(df)\n",
    "print_col_types(df)"
   ]
  },
  {
   "cell_type": "code",
   "execution_count": 4,
   "metadata": {},
   "outputs": [],
   "source": [
    "def can_convert_to_int(value):\n",
    "    try:\n",
    "        int(value)\n",
    "        return True\n",
    "    except ValueError:\n",
    "        print('Cannot convert to int: ', value)\n",
    "        return False\n",
    "    \n",
    "# Column to check\n",
    "column_to_check = 'vault_id'\n",
    "\n",
    "# Check which elements of the column can be converted to int\n",
    "convertible_indices = [idx for idx, value in enumerate(df[column_to_check]) if can_convert_to_int(value)]"
   ]
  },
  {
   "cell_type": "code",
   "execution_count": 12,
   "metadata": {},
   "outputs": [],
   "source": [
    "df['date'] = pd.to_datetime(df['date'])\n",
    "df['date'] = df['date'].dt.strftime('%Y-%m-%d')\n",
    "df['date'] = pd.to_datetime(df['date'])\n",
    "df['serial_number'] = df['serial_number'].astype(str)\n",
    "df['model'] = df['model'].astype(str)\n",
    "df['failure'] = df['failure'].astype(bool)\n",
    "df['vault_id'] = df['vault_id'].astype(int)\n",
    "df['s9_power_on_hours'] = df['s9_power_on_hours'].astype(float)\n",
    "df['s9_power_on_hours'] = df['s9_power_on_hours'].astype(int)"
   ]
  },
  {
   "cell_type": "code",
   "execution_count": 14,
   "metadata": {},
   "outputs": [
    {
     "name": "stdout",
     "output_type": "stream",
     "text": [
      "date                 datetime64[ns]\n",
      "serial_number                object\n",
      "model                        object\n",
      "failure                        bool\n",
      "vault_id                      int64\n",
      "s9_power_on_hours             int64\n",
      "dtype: object\n"
     ]
    }
   ],
   "source": [
    "print_col_types(df)"
   ]
  },
  {
   "cell_type": "code",
   "execution_count": 13,
   "metadata": {},
   "outputs": [
    {
     "data": {
      "text/html": [
       "<div>\n",
       "<style scoped>\n",
       "    .dataframe tbody tr th:only-of-type {\n",
       "        vertical-align: middle;\n",
       "    }\n",
       "\n",
       "    .dataframe tbody tr th {\n",
       "        vertical-align: top;\n",
       "    }\n",
       "\n",
       "    .dataframe thead th {\n",
       "        text-align: right;\n",
       "    }\n",
       "</style>\n",
       "<table border=\"1\" class=\"dataframe\">\n",
       "  <thead>\n",
       "    <tr style=\"text-align: right;\">\n",
       "      <th></th>\n",
       "      <th>date</th>\n",
       "      <th>serial_number</th>\n",
       "      <th>model</th>\n",
       "      <th>failure</th>\n",
       "      <th>vault_id</th>\n",
       "      <th>s9_power_on_hours</th>\n",
       "    </tr>\n",
       "  </thead>\n",
       "  <tbody>\n",
       "    <tr>\n",
       "      <th>0</th>\n",
       "      <td>2023-04-01</td>\n",
       "      <td>8HK2SSMH</td>\n",
       "      <td>HGST HUH721212ALN604</td>\n",
       "      <td>False</td>\n",
       "      <td>1113</td>\n",
       "      <td>38445</td>\n",
       "    </tr>\n",
       "    <tr>\n",
       "      <th>1</th>\n",
       "      <td>2023-04-01</td>\n",
       "      <td>10B0A01UF97G</td>\n",
       "      <td>TOSHIBA MG07ACA14TA</td>\n",
       "      <td>False</td>\n",
       "      <td>1067</td>\n",
       "      <td>27425</td>\n",
       "    </tr>\n",
       "    <tr>\n",
       "      <th>2</th>\n",
       "      <td>2023-04-01</td>\n",
       "      <td>5080A117F97G</td>\n",
       "      <td>TOSHIBA MG07ACA14TA</td>\n",
       "      <td>False</td>\n",
       "      <td>1095</td>\n",
       "      <td>18029</td>\n",
       "    </tr>\n",
       "    <tr>\n",
       "      <th>3</th>\n",
       "      <td>2023-04-01</td>\n",
       "      <td>ZL2NG0QS</td>\n",
       "      <td>ST16000NM001G</td>\n",
       "      <td>False</td>\n",
       "      <td>2010</td>\n",
       "      <td>6059</td>\n",
       "    </tr>\n",
       "    <tr>\n",
       "      <th>4</th>\n",
       "      <td>2023-04-01</td>\n",
       "      <td>ZA174MEJ</td>\n",
       "      <td>ST8000NM0055</td>\n",
       "      <td>False</td>\n",
       "      <td>1053</td>\n",
       "      <td>50273</td>\n",
       "    </tr>\n",
       "    <tr>\n",
       "      <th>...</th>\n",
       "      <td>...</td>\n",
       "      <td>...</td>\n",
       "      <td>...</td>\n",
       "      <td>...</td>\n",
       "      <td>...</td>\n",
       "      <td>...</td>\n",
       "    </tr>\n",
       "    <tr>\n",
       "      <th>2999999</th>\n",
       "      <td>2023-04-23</td>\n",
       "      <td>PL2331LAHDS4NJ</td>\n",
       "      <td>HGST HMS5C4040BLE640</td>\n",
       "      <td>False</td>\n",
       "      <td>1025</td>\n",
       "      <td>61443</td>\n",
       "    </tr>\n",
       "    <tr>\n",
       "      <th>3000000</th>\n",
       "      <td>2023-04-23</td>\n",
       "      <td>Z4D030TR</td>\n",
       "      <td>ST6000DX000</td>\n",
       "      <td>False</td>\n",
       "      <td>1002</td>\n",
       "      <td>48970</td>\n",
       "    </tr>\n",
       "    <tr>\n",
       "      <th>3000001</th>\n",
       "      <td>2023-04-23</td>\n",
       "      <td>S30106RZ</td>\n",
       "      <td>ST4000DM000</td>\n",
       "      <td>False</td>\n",
       "      <td>1005</td>\n",
       "      <td>69259</td>\n",
       "    </tr>\n",
       "    <tr>\n",
       "      <th>3000002</th>\n",
       "      <td>2023-04-23</td>\n",
       "      <td>S300XCJC</td>\n",
       "      <td>ST4000DM000</td>\n",
       "      <td>False</td>\n",
       "      <td>1006</td>\n",
       "      <td>68087</td>\n",
       "    </tr>\n",
       "    <tr>\n",
       "      <th>3000003</th>\n",
       "      <td>2023-04-23</td>\n",
       "      <td>Z304JGGF</td>\n",
       "      <td>ST4000DM000</td>\n",
       "      <td>False</td>\n",
       "      <td>1011</td>\n",
       "      <td>66090</td>\n",
       "    </tr>\n",
       "  </tbody>\n",
       "</table>\n",
       "<p>2994859 rows × 6 columns</p>\n",
       "</div>"
      ],
      "text/plain": [
       "              date   serial_number                 model  failure  vault_id  \\\n",
       "0       2023-04-01        8HK2SSMH  HGST HUH721212ALN604    False      1113   \n",
       "1       2023-04-01    10B0A01UF97G   TOSHIBA MG07ACA14TA    False      1067   \n",
       "2       2023-04-01    5080A117F97G   TOSHIBA MG07ACA14TA    False      1095   \n",
       "3       2023-04-01        ZL2NG0QS         ST16000NM001G    False      2010   \n",
       "4       2023-04-01        ZA174MEJ          ST8000NM0055    False      1053   \n",
       "...            ...             ...                   ...      ...       ...   \n",
       "2999999 2023-04-23  PL2331LAHDS4NJ  HGST HMS5C4040BLE640    False      1025   \n",
       "3000000 2023-04-23        Z4D030TR           ST6000DX000    False      1002   \n",
       "3000001 2023-04-23        S30106RZ           ST4000DM000    False      1005   \n",
       "3000002 2023-04-23        S300XCJC           ST4000DM000    False      1006   \n",
       "3000003 2023-04-23        Z304JGGF           ST4000DM000    False      1011   \n",
       "\n",
       "         s9_power_on_hours  \n",
       "0                    38445  \n",
       "1                    27425  \n",
       "2                    18029  \n",
       "3                     6059  \n",
       "4                    50273  \n",
       "...                    ...  \n",
       "2999999              61443  \n",
       "3000000              48970  \n",
       "3000001              69259  \n",
       "3000002              68087  \n",
       "3000003              66090  \n",
       "\n",
       "[2994859 rows x 6 columns]"
      ]
     },
     "execution_count": 13,
     "metadata": {},
     "output_type": "execute_result"
    }
   ],
   "source": [
    "df"
   ]
  },
  {
   "cell_type": "code",
   "execution_count": null,
   "metadata": {},
   "outputs": [],
   "source": []
  }
 ],
 "metadata": {
  "kernelspec": {
   "display_name": "Python 3",
   "language": "python",
   "name": "python3"
  },
  "language_info": {
   "codemirror_mode": {
    "name": "ipython",
    "version": 3
   },
   "file_extension": ".py",
   "mimetype": "text/x-python",
   "name": "python",
   "nbconvert_exporter": "python",
   "pygments_lexer": "ipython3",
   "version": "3.11.9"
  }
 },
 "nbformat": 4,
 "nbformat_minor": 2
}
